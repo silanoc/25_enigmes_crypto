{
 "cells": [
  {
   "cell_type": "markdown",
   "id": "49b385ff",
   "metadata": {},
   "source": [
    "# Des couples clairs chiffrés"
   ]
  },
  {
   "cell_type": "markdown",
   "id": "aef4134a",
   "metadata": {},
   "source": [
    "## Les ennoncés"
   ]
  },
  {
   "cell_type": "code",
   "execution_count": 1,
   "id": "a563e064",
   "metadata": {},
   "outputs": [],
   "source": [
    "en_clair = {1 : [\"le\",\"jour\",\"se\",\"leve\"], \n",
    "             2 : [\"tu\",\"ne\",\"tueras\",\"pas\",\"ton\",\"prochain\"], \n",
    "             3 : [\"le\",\"code\",\"de\",\"son\",\"apparement\",\"est\",\"15\"], \n",
    "             4 : [\"il\",\"est\",\"de\",\"retour\",\"de\",\"son\",\"voyage\"]} "
   ]
  },
  {
   "cell_type": "code",
   "execution_count": 2,
   "id": "9c3b68f2",
   "metadata": {},
   "outputs": [],
   "source": [
    "code = {1 : [\"4ca79\",\"ba6ec\", \"3503a\", \"725c4\"],\n",
    "       2 : [\"1f681\",\"bde88\", \"7fe61\"],\n",
    "       3 : [\"31702\", \"624d8\", \"7cf0d\", \"620e8\", \"11c08\", \"8c86\"],\n",
    "       4 : [\"2c234\",\"bde88\", \"3b784\"],\n",
    "       5 : [\"5d146\", \"3e89f\", \"bde88\", \"6c4b4\", \"2c234\", \"bde88\", \"3b784\"],\n",
    "       6 : [\"4ca79\", \"7844a\", \"7a962\", \"805c8\", \"bde88\", \"4ca79\", \"8c9eb\"],\n",
    "       7 : [\"2c234\", \"239a6\", \"4ca79\", \"85d00\"],\n",
    "       8 : [\"2c234\", \"bde88\", \"7a962\", \"373ae\", \"7a962\", \"3e89f\", \"8cd2b\"],\n",
    "       9 : [\"4ca79\", \"d51ab\", \"7a962\", \"3e89f\", \"8c086\", \"373ae\", \"bde88\", \"4ca79\", \"8c9eb\"],\n",
    "       10 : [\"2c234\", \"12f54\", \"f456d\"],\n",
    "       11 : [\"12d51\", \"725c4\", \"4ca79\", \"620e8\", \"7a962\", \"3e89f\", \"8c086\", \"8cd2b\"],\n",
    "       12 : [\"4ca79\", \"8c086\", \"7844a\", \"bde88\", \"8cd2b\"],\n",
    "       13 : [\"2c234\", \"239a6\", \"2c234\", \"f892a\"],\n",
    "       14 : [\"4ca79\", \"7844a\", \"7a962\", \"3e89f\", \"10418\", \"bde88\", \"8c9eb6\"],\n",
    "       15 : [\"a6bfc\", \"bde88\", \"25c5d\"],\n",
    "       16 : [\"85079\", \"7844a\", \"dd02c\", \"bde88\", \"85079\", \"7844a\"],\n",
    "       17 : [\"4ca79\", \"85d00\", \"bde88\", \"a8796\"]}"
   ]
  },
  {
   "cell_type": "markdown",
   "id": "2d50c463",
   "metadata": {},
   "source": [
    "## Regroupe en_clair et code\n",
    "par taille, permet d'identifier les phrases codées par rapport à celles en clair.\n",
    "Elle est à faire après chaque remplace (même si pas marqué)"
   ]
  },
  {
   "cell_type": "code",
   "execution_count": 3,
   "id": "7c3fa69c",
   "metadata": {},
   "outputs": [],
   "source": [
    "def regroupe_par_taille():\n",
    "    for item1 in en_clair:\n",
    "        print(\"-----\")\n",
    "        print(en_clair[item1])\n",
    "        for item2 in code:\n",
    "            if len(en_clair[item1]) == len(code[item2]):\n",
    "                print(code[item2], item2)\n",
    "            "
   ]
  },
  {
   "cell_type": "code",
   "execution_count": 4,
   "id": "147d61a9",
   "metadata": {},
   "outputs": [
    {
     "name": "stdout",
     "output_type": "stream",
     "text": [
      "-----\n",
      "['le', 'jour', 'se', 'leve']\n",
      "['4ca79', 'ba6ec', '3503a', '725c4'] 1\n",
      "['2c234', '239a6', '4ca79', '85d00'] 7\n",
      "['2c234', '239a6', '2c234', 'f892a'] 13\n",
      "['4ca79', '85d00', 'bde88', 'a8796'] 17\n",
      "-----\n",
      "['tu', 'ne', 'tueras', 'pas', 'ton', 'prochain']\n",
      "['31702', '624d8', '7cf0d', '620e8', '11c08', '8c86'] 3\n",
      "['85079', '7844a', 'dd02c', 'bde88', '85079', '7844a'] 16\n",
      "-----\n",
      "['le', 'code', 'de', 'son', 'apparement', 'est', '15']\n",
      "['5d146', '3e89f', 'bde88', '6c4b4', '2c234', 'bde88', '3b784'] 5\n",
      "['4ca79', '7844a', '7a962', '805c8', 'bde88', '4ca79', '8c9eb'] 6\n",
      "['2c234', 'bde88', '7a962', '373ae', '7a962', '3e89f', '8cd2b'] 8\n",
      "['4ca79', '7844a', '7a962', '3e89f', '10418', 'bde88', '8c9eb6'] 14\n",
      "-----\n",
      "['il', 'est', 'de', 'retour', 'de', 'son', 'voyage']\n",
      "['5d146', '3e89f', 'bde88', '6c4b4', '2c234', 'bde88', '3b784'] 5\n",
      "['4ca79', '7844a', '7a962', '805c8', 'bde88', '4ca79', '8c9eb'] 6\n",
      "['2c234', 'bde88', '7a962', '373ae', '7a962', '3e89f', '8cd2b'] 8\n",
      "['4ca79', '7844a', '7a962', '3e89f', '10418', 'bde88', '8c9eb6'] 14\n"
     ]
    }
   ],
   "source": [
    "regroupe_par_taille()"
   ]
  },
  {
   "cell_type": "markdown",
   "id": "6a530753",
   "metadata": {},
   "source": [
    "## Pour remplacer un terme codé par un mot en clair"
   ]
  },
  {
   "cell_type": "code",
   "execution_count": 5,
   "id": "2977ef11",
   "metadata": {},
   "outputs": [],
   "source": [
    "def remplace(lettre_code, clair):\n",
    "    for item in code:\n",
    "        for item2 in range(len(code[item])):\n",
    "            if code[item][item2] == lettre_code:\n",
    "                code[item][item2] = clair"
   ]
  },
  {
   "cell_type": "markdown",
   "id": "e37a0efe",
   "metadata": {},
   "source": [
    "## Recherche \"de\", écrit 2 fois dans la quatrième phrase en position 3 et 5"
   ]
  },
  {
   "cell_type": "code",
   "execution_count": 6,
   "id": "4ca67609",
   "metadata": {},
   "outputs": [
    {
     "name": "stdout",
     "output_type": "stream",
     "text": [
      "7a962\n"
     ]
    }
   ],
   "source": [
    "for item in code:\n",
    "    if len(code[item]) == len(en_clair[4]):\n",
    "        if code[item][2] == code[item][4]:\n",
    "            print(code[item][2])\n",
    "            "
   ]
  },
  {
   "cell_type": "code",
   "execution_count": 7,
   "id": "51e0d769",
   "metadata": {},
   "outputs": [],
   "source": [
    "remplace('7a962', \"de\")"
   ]
  },
  {
   "cell_type": "markdown",
   "id": "6c444bd2",
   "metadata": {},
   "source": [
    "## Comme il n'y a qu'une phrase possible pour la 4 claire qui est la 8 codé, on peut faire les remplacements suivants"
   ]
  },
  {
   "cell_type": "code",
   "execution_count": 8,
   "id": "769a1fb9",
   "metadata": {},
   "outputs": [
    {
     "name": "stdout",
     "output_type": "stream",
     "text": [
      "{1: ['4ca79', 'ba6ec', '3503a', '725c4'], 2: ['1f681', 'est', '7fe61'], 3: ['31702', '624d8', '7cf0d', '620e8', '11c08', '8c86'], 4: ['il', 'est', '3b784'], 5: ['5d146', 'son', 'est', '6c4b4', 'il', 'est', '3b784'], 6: ['4ca79', '7844a', 'de', '805c8', 'est', '4ca79', '8c9eb'], 7: ['il', '239a6', '4ca79', '85d00'], 8: ['il', 'est', 'de', 'retour', 'de', 'son', 'voyage'], 9: ['4ca79', 'd51ab', 'de', 'son', '8c086', 'retour', 'est', '4ca79', '8c9eb'], 10: ['il', '12f54', 'f456d'], 11: ['12d51', '725c4', '4ca79', '620e8', 'de', 'son', '8c086', 'voyage'], 12: ['4ca79', '8c086', '7844a', 'est', 'voyage'], 13: ['il', '239a6', 'il', 'f892a'], 14: ['4ca79', '7844a', 'de', 'son', '10418', 'est', '8c9eb6'], 15: ['a6bfc', 'est', '25c5d'], 16: ['85079', '7844a', 'dd02c', 'est', '85079', '7844a'], 17: ['4ca79', '85d00', 'est', 'a8796']}\n"
     ]
    }
   ],
   "source": [
    "remplace('2c234', \"il\")\n",
    "remplace('bde88', \"est\")\n",
    "remplace('373ae', \"retour\")\n",
    "remplace('3e89f', \"son\")\n",
    "remplace('8cd2b', \"voyage\")\n",
    "print(code)"
   ]
  },
  {
   "cell_type": "markdown",
   "id": "2dd0f6ad",
   "metadata": {},
   "source": [
    "## De fait, avec les phrases de 4 mots, 4ca79 correspond à le "
   ]
  },
  {
   "cell_type": "code",
   "execution_count": 9,
   "id": "ca94386c",
   "metadata": {},
   "outputs": [],
   "source": [
    "remplace('4ca79', \"le\")"
   ]
  },
  {
   "cell_type": "markdown",
   "id": "0cbcef8b",
   "metadata": {},
   "source": [
    "## Donc la phase 1 en clair correspond à celle 1 en code, donc remplacement "
   ]
  },
  {
   "cell_type": "code",
   "execution_count": 10,
   "id": "ede389e5",
   "metadata": {},
   "outputs": [],
   "source": [
    "remplace('ba6ec', \"jour\")\n",
    "remplace('3503a', \"se\")\n",
    "remplace('725c4', \"leve\")"
   ]
  },
  {
   "cell_type": "markdown",
   "id": "1fbfc7ed",
   "metadata": {},
   "source": [
    "## Donc le code de son ... est la phrase 14 et remplacement"
   ]
  },
  {
   "cell_type": "code",
   "execution_count": 11,
   "id": "4f3b1108",
   "metadata": {},
   "outputs": [],
   "source": [
    "remplace('7844a', \"code\")\n",
    "remplace('10418', \"appartement\")\n",
    "remplace('8c9eb6', \"15\")\n"
   ]
  },
  {
   "cell_type": "markdown",
   "id": "da8a74a5",
   "metadata": {},
   "source": [
    "## Pour la phrase tu ne tura pas... entre les 2 codées, 1 est près remplie et ne correspond pas, donc c'est la 3\n",
    "donc remplacement"
   ]
  },
  {
   "cell_type": "code",
   "execution_count": 12,
   "id": "1919bb58",
   "metadata": {},
   "outputs": [],
   "source": [
    "remplace('31702', \"tu\")\n",
    "remplace('624d8', \"ne\")\n",
    "remplace('7cf0d', \"tueras\")\n",
    "remplace('620e8', \"pas\")\n",
    "remplace('11c08', \"ton\")\n",
    "remplace('8c86', \"prochain\")"
   ]
  },
  {
   "cell_type": "code",
   "execution_count": 13,
   "id": "a99afc9a",
   "metadata": {},
   "outputs": [
    {
     "name": "stdout",
     "output_type": "stream",
     "text": [
      "-----\n",
      "['le', 'jour', 'se', 'leve']\n",
      "['le', 'jour', 'se', 'leve'] 1\n",
      "['il', '239a6', 'le', '85d00'] 7\n",
      "['il', '239a6', 'il', 'f892a'] 13\n",
      "['le', '85d00', 'est', 'a8796'] 17\n",
      "-----\n",
      "['tu', 'ne', 'tueras', 'pas', 'ton', 'prochain']\n",
      "['tu', 'ne', 'tueras', 'pas', 'ton', 'prochain'] 3\n",
      "['85079', 'code', 'dd02c', 'est', '85079', 'code'] 16\n",
      "-----\n",
      "['le', 'code', 'de', 'son', 'apparement', 'est', '15']\n",
      "['5d146', 'son', 'est', '6c4b4', 'il', 'est', '3b784'] 5\n",
      "['le', 'code', 'de', '805c8', 'est', 'le', '8c9eb'] 6\n",
      "['il', 'est', 'de', 'retour', 'de', 'son', 'voyage'] 8\n",
      "['le', 'code', 'de', 'son', 'appartement', 'est', '15'] 14\n",
      "-----\n",
      "['il', 'est', 'de', 'retour', 'de', 'son', 'voyage']\n",
      "['5d146', 'son', 'est', '6c4b4', 'il', 'est', '3b784'] 5\n",
      "['le', 'code', 'de', '805c8', 'est', 'le', '8c9eb'] 6\n",
      "['il', 'est', 'de', 'retour', 'de', 'son', 'voyage'] 8\n",
      "['le', 'code', 'de', 'son', 'appartement', 'est', '15'] 14\n"
     ]
    }
   ],
   "source": [
    "regroupe_par_taille()"
   ]
  },
  {
   "cell_type": "code",
   "execution_count": 14,
   "id": "7f373cce",
   "metadata": {},
   "outputs": [
    {
     "name": "stdout",
     "output_type": "stream",
     "text": [
      "{1: ['le', 'jour', 'se', 'leve'], 2: ['1f681', 'est', '7fe61'], 3: ['tu', 'ne', 'tueras', 'pas', 'ton', 'prochain'], 4: ['il', 'est', '3b784'], 5: ['5d146', 'son', 'est', '6c4b4', 'il', 'est', '3b784'], 6: ['le', 'code', 'de', '805c8', 'est', 'le', '8c9eb'], 7: ['il', '239a6', 'le', '85d00'], 8: ['il', 'est', 'de', 'retour', 'de', 'son', 'voyage'], 9: ['le', 'd51ab', 'de', 'son', '8c086', 'retour', 'est', 'le', '8c9eb'], 10: ['il', '12f54', 'f456d'], 11: ['12d51', 'leve', 'le', 'pas', 'de', 'son', '8c086', 'voyage'], 12: ['le', '8c086', 'code', 'est', 'voyage'], 13: ['il', '239a6', 'il', 'f892a'], 14: ['le', 'code', 'de', 'son', 'appartement', 'est', '15'], 15: ['a6bfc', 'est', '25c5d'], 16: ['85079', 'code', 'dd02c', 'est', '85079', 'code'], 17: ['le', '85d00', 'est', 'a8796']}\n"
     ]
    }
   ],
   "source": [
    "print(code)"
   ]
  },
  {
   "cell_type": "markdown",
   "id": "a0fe2197",
   "metadata": {},
   "source": [
    "# Réponse\n",
    "1: ['le', 'jour', 'se', 'leve']\n",
    "3: ['tu', 'ne', 'tueras', 'pas', 'ton', 'prochain']\n",
    "8: ['il', 'est', 'de', 'retour', 'de', 'son', 'voyage']\n",
    "14: ['le', 'code', 'de', 'son', 'appartement', 'est', '15']\n",
    "    "
   ]
  }
 ],
 "metadata": {
  "kernelspec": {
   "display_name": "Python 3 (ipykernel)",
   "language": "python",
   "name": "python3"
  },
  "language_info": {
   "codemirror_mode": {
    "name": "ipython",
    "version": 3
   },
   "file_extension": ".py",
   "mimetype": "text/x-python",
   "name": "python",
   "nbconvert_exporter": "python",
   "pygments_lexer": "ipython3",
   "version": "3.8.10"
  }
 },
 "nbformat": 4,
 "nbformat_minor": 5
}
